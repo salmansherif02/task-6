{
 "cells": [
  {
   "cell_type": "code",
   "execution_count": 1,
   "id": "24b9ed47",
   "metadata": {},
   "outputs": [],
   "source": [
    "import pandas as pd\n",
    "import numpy as np\n",
    "import re\n",
    "import nltk\n",
    "from nltk.corpus import stopwords\n",
    "from sklearn.feature_extraction.text import TfidfVectorizer\n",
    "from sklearn.ensemble import RandomForestClassifier\n",
    "from sklearn.svm import LinearSVC\n",
    "from sklearn.model_selection import train_test_split, cross_val_score\n",
    "from sklearn.metrics import accuracy_score, classification_report"
   ]
  },
  {
   "cell_type": "code",
   "execution_count": 8,
   "id": "3bdb6831",
   "metadata": {},
   "outputs": [],
   "source": [
    "df = pd.read_csv(\"complaints.csv\")"
   ]
  },
  {
   "cell_type": "code",
   "execution_count": 9,
   "id": "0fac0ca4",
   "metadata": {},
   "outputs": [],
   "source": [
    "# Drop the rows with missing data\n",
    "df = df.dropna()"
   ]
  },
  {
   "cell_type": "code",
   "execution_count": 10,
   "id": "8d8d213f",
   "metadata": {},
   "outputs": [],
   "source": [
    "# Convert the product code to integers\n",
    "df['Product Code'] = pd.Categorical(df['Product']).codes"
   ]
  },
  {
   "cell_type": "code",
   "execution_count": 11,
   "id": "4d115223",
   "metadata": {},
   "outputs": [],
   "source": [
    "# Define a function to preprocess the complaint text\n",
    "def preprocess(text):\n",
    "    # Convert to lowercase\n",
    "    text = text.lower()\n",
    "    # Remove special characters and digits\n",
    "    text = re.sub(r'[^a-zA-Z\\s]', '', text)\n",
    "    # Remove stopwords\n",
    "    stop_words = set(stopwords.words('english'))\n",
    "    tokens = nltk.word_tokenize(text)\n",
    "    tokens = [token for token in tokens if token not in stop_words]\n",
    "    # Join tokens back into a string\n",
    "    text = ' '.join(tokens)\n",
    "    return text"
   ]
  },
  {
   "cell_type": "code",
   "execution_count": 12,
   "id": "b781d30d",
   "metadata": {},
   "outputs": [],
   "source": [
    "# Apply the preprocessing function to the complaint text\n",
    "df['Complaint Text'] = df['Consumer complaint narrative'].apply(preprocess)"
   ]
  },
  {
   "cell_type": "code",
   "execution_count": 13,
   "id": "c06a69c8",
   "metadata": {},
   "outputs": [],
   "source": [
    "# Split the data into training and test sets\n",
    "X_train, X_test, y_train, y_test = train_test_split(df['Complaint Text'], df['Product Code'], test_size=0.2, random_state=42)\n"
   ]
  },
  {
   "cell_type": "code",
   "execution_count": 14,
   "id": "ab1c7ac1",
   "metadata": {},
   "outputs": [],
   "source": [
    "# Create a TfidfVectorizer object\n",
    "tfidf = TfidfVectorizer()"
   ]
  },
  {
   "cell_type": "code",
   "execution_count": 15,
   "id": "fd422e0d",
   "metadata": {},
   "outputs": [],
   "source": [
    "# Vectorize the training data\n",
    "X = tfidf.fit_transform(X_train).toarray()"
   ]
  },
  {
   "cell_type": "code",
   "execution_count": 16,
   "id": "0799e687",
   "metadata": {},
   "outputs": [
    {
     "data": {
      "text/plain": [
       "LinearSVC()"
      ]
     },
     "execution_count": 16,
     "metadata": {},
     "output_type": "execute_result"
    }
   ],
   "source": [
    "# Train a Random Forest Classifier on the vectorized data\n",
    "rf = RandomForestClassifier(n_estimators=100)\n",
    "rf.fit(X, y_train)\n",
    "\n",
    "# Train a Support Vector Classifier on the vectorized data\n",
    "svm = LinearSVC()\n",
    "svm.fit(X, y_train)"
   ]
  },
  {
   "cell_type": "code",
   "execution_count": 17,
   "id": "b52134a9",
   "metadata": {},
   "outputs": [
    {
     "name": "stdout",
     "output_type": "stream",
     "text": [
      "Random Forest Classifier cross-validation scores: [0.964      0.95791583 0.96192385 0.95991984 0.95791583]\n",
      "Mean score: 0.9603350701402805\n",
      "Standard deviation: 0.0023593969970613733\n",
      "\n",
      "Support Vector Classifier cross-validation scores: [0.974      0.96392786 0.97795591 0.9759519  0.96993988]\n",
      "Mean score: 0.9723551102204409\n",
      "Standard deviation: 0.004977218537160005\n"
     ]
    }
   ],
   "source": [
    "# Evaluate the performance of each model using cross-validation\n",
    "rf_scores = cross_val_score(rf, X, y_train, cv=5)\n",
    "svm_scores = cross_val_score(svm, X, y_train, cv=5)\n",
    "\n",
    "print(\"Random Forest Classifier cross-validation scores:\", rf_scores)\n",
    "print(\"Mean score:\", rf_scores.mean())\n",
    "print(\"Standard deviation:\", rf_scores.std())\n",
    "\n",
    "print(\"\\nSupport Vector Classifier cross-validation scores:\", svm_scores)\n",
    "print(\"Mean score:\", svm_scores.mean())\n",
    "print(\"Standard deviation:\", svm_scores.std())"
   ]
  },
  {
   "cell_type": "code",
   "execution_count": 18,
   "id": "51ea58c7",
   "metadata": {},
   "outputs": [
    {
     "name": "stdout",
     "output_type": "stream",
     "text": [
      "Support Vector Classifier:\n",
      "\n",
      "Accuracy: 0.9807692307692307\n",
      "              precision    recall  f1-score   support\n",
      "\n",
      "           0       0.98      1.00      0.99       596\n",
      "           1       0.90      0.64      0.75        28\n",
      "\n",
      "    accuracy                           0.98       624\n",
      "   macro avg       0.94      0.82      0.87       624\n",
      "weighted avg       0.98      0.98      0.98       624\n",
      "\n"
     ]
    }
   ],
   "source": [
    "# Evaluate the performance of the Support Vector Classifier on the test set\n",
    "y_pred = svm.predict(tfidf.transform(X_test).toarray())\n",
    "\n",
    "print(\"Support Vector Classifier:\\n\")\n",
    "print(\"Accuracy:\", accuracy_score(y_test, y_pred))\n",
    "print(classification_report(y_test, y_pred))\n"
   ]
  },
  {
   "cell_type": "code",
   "execution_count": 28,
   "id": "724d9f83",
   "metadata": {},
   "outputs": [],
   "source": [
    "# Example consumer complaint\n",
    "complaint = \"I have an error on my credit report that I would like to dispute.\"\n",
    "\n",
    "# Preprocess the complaint text\n",
    "complaint_processed = preprocess(complaint)\n",
    "\n",
    "# Vectorize the complaint text using the TF-IDF algorithm\n",
    "complaint_vector = tfidf.transform([complaint_processed]).toarray()"
   ]
  },
  {
   "cell_type": "code",
   "execution_count": 29,
   "id": "c4c54a00",
   "metadata": {},
   "outputs": [
    {
     "name": "stdout",
     "output_type": "stream",
     "text": [
      "Predicted product code: 0\n"
     ]
    }
   ],
   "source": [
    "# Make a prediction\n",
    "product_code = svm.predict(complaint_vector)[0]\n",
    "\n",
    "print(\"Predicted product code:\", product_code)"
   ]
  },
  {
   "cell_type": "code",
   "execution_count": null,
   "id": "15b52dc8",
   "metadata": {},
   "outputs": [],
   "source": []
  },
  {
   "cell_type": "code",
   "execution_count": null,
   "id": "01012fdd",
   "metadata": {},
   "outputs": [],
   "source": []
  }
 ],
 "metadata": {
  "kernelspec": {
   "display_name": "Python 3",
   "language": "python",
   "name": "python3"
  },
  "language_info": {
   "codemirror_mode": {
    "name": "ipython",
    "version": 3
   },
   "file_extension": ".py",
   "mimetype": "text/x-python",
   "name": "python",
   "nbconvert_exporter": "python",
   "pygments_lexer": "ipython3",
   "version": "3.8.8"
  }
 },
 "nbformat": 4,
 "nbformat_minor": 5
}
